{
 "cells": [
  {
   "cell_type": "markdown",
   "id": "dcb412c7-8165-4fbe-a7ca-fab03595bf67",
   "metadata": {},
   "source": [
    "# **`Project 3: Team John Hicks`**"
   ]
  },
  {
   "cell_type": "markdown",
   "id": "d1257abe-6a2f-4f9d-841a-6da44ba4e307",
   "metadata": {},
   "source": [
    "## **USA** File"
   ]
  },
  {
   "cell_type": "markdown",
   "id": "30e31c47-c5b7-4bb2-93c7-fdcbdce361f6",
   "metadata": {},
   "source": [
    "### **Objective**: Compare the nutritional intake and food intake in America vs. Mali before, during, and after the pandemic."
   ]
  },
  {
   "cell_type": "markdown",
   "id": "47898c14-f183-4eba-9db6-6aa55b662042",
   "metadata": {},
   "source": [
    "#### Group Members:\n",
    "> Leona Katibah <br>\n",
    "> Jack Pollard <br>\n",
    "> Jakob Mackanych <br>\n",
    "> Xi Wang <br>\n",
    "> Wendy Peng <br>\n",
    "> Sury Dongre"
   ]
  },
  {
   "cell_type": "markdown",
   "id": "23834b59-481a-47c7-9077-45f96c6e3524",
   "metadata": {},
   "source": [
    "## Project Setup"
   ]
  },
  {
   "cell_type": "code",
   "execution_count": 1,
   "id": "86a09ae8-1f8b-4cef-ad93-47e6d3774fff",
   "metadata": {},
   "outputs": [
    {
     "name": "stderr",
     "output_type": "stream",
     "text": [
      "UsageError: Line magic function `%%capture` not found.\n"
     ]
    }
   ],
   "source": [
    "#import all packages here\n",
    "%%capture\n",
    "\n",
    "import pandas as pd\n",
    "import re "
   ]
  },
  {
   "cell_type": "markdown",
   "id": "332678ca-5761-45a4-9f12-f8451504e5d8",
   "metadata": {},
   "source": [
    "# [A] Choice of a Population -  with supporting expenditure data "
   ]
  },
  {
   "cell_type": "code",
   "execution_count": null,
   "id": "d5c475e5-85e3-403d-8c87-8f09aab10875",
   "metadata": {},
   "outputs": [],
   "source": []
  },
  {
   "cell_type": "markdown",
   "id": "3091241d-b443-4b98-a53b-b6bb53dd267a",
   "metadata": {},
   "source": [
    "# [B] Nutritional content of differnet foods"
   ]
  },
  {
   "cell_type": "code",
   "execution_count": null,
   "id": "b5901c87-00e9-4fa3-aaa6-9e962f93121a",
   "metadata": {},
   "outputs": [],
   "source": []
  },
  {
   "cell_type": "markdown",
   "id": "7a8f7b90-c71a-45e5-9561-39a93550198d",
   "metadata": {},
   "source": [
    "#  [B] Nutritional adequacy of diet "
   ]
  },
  {
   "cell_type": "code",
   "execution_count": null,
   "id": "215cdd28-de73-496b-81a1-e83fcc53e1c4",
   "metadata": {},
   "outputs": [],
   "source": []
  },
  {
   "cell_type": "markdown",
   "id": "c3164432-d4e6-4635-8b5a-f0e54e809ac2",
   "metadata": {},
   "source": [
    "# [A] Estimate Demand System"
   ]
  },
  {
   "cell_type": "code",
   "execution_count": null,
   "id": "bf43c607-f5ba-4a5d-a0ac-f2d875bac2c0",
   "metadata": {},
   "outputs": [],
   "source": []
  },
  {
   "cell_type": "markdown",
   "id": "3b85a172-83e8-4f08-8a48-65ceada58626",
   "metadata": {},
   "source": [
    "# [C] Counterfactual Experiments"
   ]
  },
  {
   "cell_type": "code",
   "execution_count": null,
   "id": "b6fba687-bc36-41c4-bb55-0403c47f529a",
   "metadata": {},
   "outputs": [],
   "source": []
  }
 ],
 "metadata": {
  "kernelspec": {
   "display_name": "Python 3 (ipykernel)",
   "language": "python",
   "name": "python3"
  },
  "language_info": {
   "codemirror_mode": {
    "name": "ipython",
    "version": 3
   },
   "file_extension": ".py",
   "mimetype": "text/x-python",
   "name": "python",
   "nbconvert_exporter": "python",
   "pygments_lexer": "ipython3",
   "version": "3.11.11"
  }
 },
 "nbformat": 4,
 "nbformat_minor": 5
}
