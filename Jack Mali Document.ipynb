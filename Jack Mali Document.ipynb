{
 "cells": [
  {
   "cell_type": "markdown",
   "id": "4b9eb0a6-ec2c-432d-b1f7-32fa534e1e79",
   "metadata": {},
   "source": [
    "# **`Project 3: Team John Hicks`**"
   ]
  },
  {
   "cell_type": "markdown",
   "id": "268d23e4-c88b-4953-b610-8b33977c265c",
   "metadata": {},
   "source": [
    "## **Mali** File"
   ]
  },
  {
   "cell_type": "markdown",
   "id": "1755a6f7-e654-48ea-a602-f43732d919dd",
   "metadata": {},
   "source": [
    "### **Objective**: Compare the nutritional intake and food intake in America vs. Mali before, during, and after the pandemic."
   ]
  },
  {
   "cell_type": "markdown",
   "id": "7fd074e5-c236-4f21-83c4-94d7899472d2",
   "metadata": {},
   "source": [
    "#### Group Members:\n",
    "> Leona Katibah <br>\n",
    "> Jack Pollard <br>\n",
    "> Jakob Mackanych <br>\n",
    "> Xi Wang <br>\n",
    "> Wendy Peng <br>\n",
    "> Sury Dongre"
   ]
  },
  {
   "cell_type": "markdown",
   "id": "54782e23-46f0-441d-8c01-bc2940e2aa66",
   "metadata": {},
   "source": [
    "## Project Setup"
   ]
  },
  {
   "cell_type": "code",
   "execution_count": 9,
   "id": "07d0e376-c015-4b5b-ac18-d3ea8dad77af",
   "metadata": {},
   "outputs": [
    {
     "name": "stderr",
     "output_type": "stream",
     "text": [
      "UsageError: Line magic function `%%capture` not found.\n"
     ]
    }
   ],
   "source": [
    "#import all packages here\n",
    "%%capture\n",
    "\n",
    "import pandas as pd\n",
    "import re "
   ]
  },
  {
   "cell_type": "markdown",
   "id": "c0a8077b-3e59-4205-94bd-42a38e6278dd",
   "metadata": {},
   "source": [
    "# [A] Choice of a Population -  with supporting expenditure data "
   ]
  },
  {
   "cell_type": "code",
   "execution_count": null,
   "id": "bd7af7b8-935d-415f-9f97-52d6dd34472c",
   "metadata": {},
   "outputs": [],
   "source": []
  },
  {
   "cell_type": "markdown",
   "id": "e00c6d83-8b5d-421f-b65a-4027682bf647",
   "metadata": {},
   "source": [
    "# [B] Nutritional content of differnet foods"
   ]
  },
  {
   "cell_type": "code",
   "execution_count": null,
   "id": "20f9c019-b43a-4982-8ba6-26ea74d4821c",
   "metadata": {},
   "outputs": [],
   "source": []
  },
  {
   "cell_type": "markdown",
   "id": "a1f6fe6a-6ebc-4d27-a125-aa6fcdf5ff4e",
   "metadata": {},
   "source": [
    "#  [B] Nutritional adequacy of diet "
   ]
  },
  {
   "cell_type": "code",
   "execution_count": null,
   "id": "35faa734-b527-46b3-8c36-4d70c5fd4d5a",
   "metadata": {},
   "outputs": [],
   "source": []
  },
  {
   "cell_type": "markdown",
   "id": "a7b232c2-dd03-4de3-9595-b66c5e8c6754",
   "metadata": {},
   "source": [
    "# [A] Estimate Demand System"
   ]
  },
  {
   "cell_type": "code",
   "execution_count": null,
   "id": "b6cf0f8b-4205-4748-87ce-b333f2de43d8",
   "metadata": {},
   "outputs": [],
   "source": []
  },
  {
   "cell_type": "markdown",
   "id": "80c3fd49-fcfb-4c51-9f24-db950161fd0a",
   "metadata": {},
   "source": [
    "# [C] Counterfactual Experiments"
   ]
  },
  {
   "cell_type": "code",
   "execution_count": null,
   "id": "81b9b8c7-d0ea-4069-a05e-9aa445d88532",
   "metadata": {},
   "outputs": [],
   "source": []
  }
 ],
 "metadata": {
  "kernelspec": {
   "display_name": "Python 3 (ipykernel)",
   "language": "python",
   "name": "python3"
  },
  "language_info": {
   "codemirror_mode": {
    "name": "ipython",
    "version": 3
   },
   "file_extension": ".py",
   "mimetype": "text/x-python",
   "name": "python",
   "nbconvert_exporter": "python",
   "pygments_lexer": "ipython3",
   "version": "3.11.11"
  }
 },
 "nbformat": 4,
 "nbformat_minor": 5
}
